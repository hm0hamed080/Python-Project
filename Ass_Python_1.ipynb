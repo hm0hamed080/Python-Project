{
  "nbformat": 4,
  "nbformat_minor": 0,
  "metadata": {
    "colab": {
      "provenance": []
    },
    "kernelspec": {
      "name": "python3",
      "display_name": "Python 3"
    },
    "language_info": {
      "name": "python"
    }
  },
  "cells": [
    {
      "cell_type": "markdown",
      "source": [
        "Task One Multiplication using for loop"
      ],
      "metadata": {
        "id": "Cn7pKGQf6xHo"
      }
    },
    {
      "cell_type": "code",
      "execution_count": null,
      "metadata": {
        "colab": {
          "base_uri": "https://localhost:8080/"
        },
        "id": "CKwoVxX06lRA",
        "outputId": "5d9452a8-4ce9-4b71-dd10-1b26766090b2"
      },
      "outputs": [
        {
          "output_type": "stream",
          "name": "stdout",
          "text": [
            "1 * 1 = 1\n",
            "1 * 2 = 2\n",
            "1 * 3 = 3\n",
            "2 * 1 = 2\n",
            "2 * 2 = 4\n",
            "2 * 3 = 6\n",
            "3 * 1 = 3\n",
            "3 * 2 = 6\n",
            "3 * 3 = 9\n"
          ]
        }
      ],
      "source": [
        "for i in range(1, 4):\n",
        "    for j in range(1, 4):\n",
        "        print(f\"{i} * {j} = {i * j}\")"
      ]
    },
    {
      "cell_type": "markdown",
      "source": [
        "diamond pattern"
      ],
      "metadata": {
        "id": "ULfR4bF_-Hxl"
      }
    },
    {
      "cell_type": "code",
      "source": [
        "h = 5\n",
        "for i in range(1, h * 2):\n",
        "    if i <= h:\n",
        "        s = h - i\n",
        "        stars = i\n",
        "    else:\n",
        "        s = i - h\n",
        "        stars = (h * 2) - i\n",
        "    print(\" \" * s, end=\"\")\n",
        "    print(\"* \" * stars)"
      ],
      "metadata": {
        "colab": {
          "base_uri": "https://localhost:8080/"
        },
        "id": "ExlQz6eS685m",
        "outputId": "a25f5b00-9a75-4b28-85f4-56365f452297"
      },
      "execution_count": 2,
      "outputs": [
        {
          "output_type": "stream",
          "name": "stdout",
          "text": [
            "    * \n",
            "   * * \n",
            "  * * * \n",
            " * * * * \n",
            "* * * * * \n",
            " * * * * \n",
            "  * * * \n",
            "   * * \n",
            "    * \n"
          ]
        }
      ]
    },
    {
      "cell_type": "markdown",
      "source": [
        "Max Value"
      ],
      "metadata": {
        "id": "p6YTrLzC_U-7"
      }
    },
    {
      "cell_type": "code",
      "source": [
        "n = [23, 45, 5, 50, 79]\n",
        "max_value = n[0]\n",
        "for i in n:\n",
        "    if i > max_value:\n",
        "        max_value = i\n",
        "print(max_value)"
      ],
      "metadata": {
        "colab": {
          "base_uri": "https://localhost:8080/"
        },
        "id": "67ah7-6i_T3l",
        "outputId": "2f469a8d-4ab9-4d1a-eded-c1a6575ca98e"
      },
      "execution_count": null,
      "outputs": [
        {
          "output_type": "stream",
          "name": "stdout",
          "text": [
            "79\n"
          ]
        }
      ]
    },
    {
      "cell_type": "markdown",
      "source": [
        "Number of vowels"
      ],
      "metadata": {
        "id": "XV-IAlU5AqME"
      }
    },
    {
      "cell_type": "code",
      "source": [
        "text = input(\"Enter a string: \")\n",
        "vowels = \"aeiou\"\n",
        "count = 0\n",
        "\n",
        "for char in text.lower():\n",
        "    if char in vowels:\n",
        "        count += 1\n",
        "\n",
        "print(f\"Number of vowels: {count}\")\n"
      ],
      "metadata": {
        "colab": {
          "base_uri": "https://localhost:8080/"
        },
        "id": "YL2o4so2_eMq",
        "outputId": "81ddca16-a12a-42b3-a135-b6da548ba8b7"
      },
      "execution_count": null,
      "outputs": [
        {
          "output_type": "stream",
          "name": "stdout",
          "text": [
            "Enter a string: Hi I am hamed\n",
            "Number of vowels: 5\n"
          ]
        }
      ]
    },
    {
      "cell_type": "markdown",
      "source": [
        "Prime"
      ],
      "metadata": {
        "id": "jBGQ1EdSB5IX"
      }
    },
    {
      "cell_type": "code",
      "source": [
        "start = int(input(\"Enter the begining of the range (: \"))\n",
        "end = int(input(\"Enter the end of the range: \"))\n",
        "\n",
        "for n in range(start, end + 1):\n",
        "    if n > 1 and all(n % i != 0 for i in range(2, int(n**0.5) + 1)):\n",
        "        print(n)"
      ],
      "metadata": {
        "colab": {
          "base_uri": "https://localhost:8080/"
        },
        "id": "zteDkJprAj_W",
        "outputId": "22e285cd-ec25-434a-aa06-54b379eb7fed"
      },
      "execution_count": null,
      "outputs": [
        {
          "output_type": "stream",
          "name": "stdout",
          "text": [
            "Enter the begining of the range (: 10\n",
            "Enter the end of the range: 100\n",
            "11\n",
            "13\n",
            "17\n",
            "19\n",
            "23\n",
            "29\n",
            "31\n",
            "37\n",
            "41\n",
            "43\n",
            "47\n",
            "53\n",
            "59\n",
            "61\n",
            "67\n",
            "71\n",
            "73\n",
            "79\n",
            "83\n",
            "89\n",
            "97\n"
          ]
        }
      ]
    },
    {
      "cell_type": "markdown",
      "source": [
        "Fibonacci sequence\n",
        "This is the rule Fn = F(n-1) + F(n-2)"
      ],
      "metadata": {
        "id": "dyPRRfi3Dimc"
      }
    },
    {
      "cell_type": "code",
      "source": [
        "n = int(input(\"Enter the num: \"))\n",
        "f0, f1 = 0, 1\n",
        "\n",
        "for i in range(n):\n",
        "    print(f0, end=\" \")\n",
        "    f0, f1 = f1, f0 + f1"
      ],
      "metadata": {
        "colab": {
          "base_uri": "https://localhost:8080/"
        },
        "id": "ZAdKvkHeCG8M",
        "outputId": "aa0a98b7-b5ad-4990-8dcc-4ba3dc1233c2"
      },
      "execution_count": null,
      "outputs": [
        {
          "output_type": "stream",
          "name": "stdout",
          "text": [
            "Enter the num: 9\n",
            "0 1 1 2 3 5 8 13 21 "
          ]
        }
      ]
    },
    {
      "cell_type": "markdown",
      "source": [],
      "metadata": {
        "id": "4weuRdZDDo5r"
      }
    }
  ]
}